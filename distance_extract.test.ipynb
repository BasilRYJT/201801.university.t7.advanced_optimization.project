{
 "cells": [
  {
   "cell_type": "code",
   "execution_count": 144,
   "metadata": {},
   "outputs": [
    {
     "name": "stdout",
     "output_type": "stream",
     "text": [
      "        id5                          name          lon          lat\n",
      "0  ID_00000          Blk 20 Ghim Moh Road  103.7882307  1.310996273\n",
      "1  ID_00001     People's Park Food Centre  103.8425788  1.284991022\n",
      "2  ID_00002            Tiong Bahru Market  103.8323488  1.285088258\n",
      "3  ID_00003  Blk 84 Marine Parade Central  103.9063385  1.302285138\n",
      "4  ID_00004              Chinatown Market  103.8431776  1.282235148\n",
      "          id5                                               name          lon  \\\n",
      "65   ID_00065                  Taman Jurong Market & Food Centre  103.7215199   \n",
      "66   ID_00066                          Blks 20/21 Marsiling Lane  103.7772032   \n",
      "67   ID_00067                         Blks 221A/B Boon Lay Place  103.7127998   \n",
      "68   ID_00068                           Blks 22A/B Havelock Road  103.8296268   \n",
      "69   ID_00069                           Blks 79/79A Circuit Road  103.8850435   \n",
      "70   ID_00070                           Blks 91/92 Whampoa Drive  103.8540681   \n",
      "71   ID_00071                                 Bukit Timah Market   103.775995   \n",
      "72   ID_00072                    Chong Pang Market & Food Centre  103.8285376   \n",
      "73   ID_00073                               Geylang Serai Market  103.8982243   \n",
      "74   ID_00074               Holland Village Market & Food Centre  103.7948629   \n",
      "75   ID_00075                      Hong Lim Market & Food Centre  103.8458189   \n",
      "76   ID_00076                              Kallang Estate Market  103.8841302   \n",
      "77   ID_00077                     Blks 2 & 3 Changi Village Road  103.9882457   \n",
      "78   ID_00078                ABC Brickworks Market & Food Centre   103.808128   \n",
      "79   ID_00079                                   Adam Food Centre   103.814165   \n",
      "80   ID_00080                 Albert Centre Market & Food Centre  103.8542116   \n",
      "81   ID_00081                      Alexandra Village Food Centre  103.8044893   \n",
      "82   ID_00082                            Amoy Street Food Centre  103.8466068   \n",
      "83   ID_00083                                  Bedok Food Centre  103.9554742   \n",
      "84   ID_00084                                Beo Crescent Market   103.827358   \n",
      "85   ID_00085                                 Berseh Food Centre   103.856854   \n",
      "86   ID_00086                                  Blk 1 Jalan Kukoh  103.8399459   \n",
      "87   ID_00087                      Blk 11 Telok Blangah Crescent  103.8186417   \n",
      "88   ID_00088                             Blk 117 Aljunied Ave 2   103.887019   \n",
      "89   ID_00089                         Blk 127 Toa Payoh Lorong 1  103.8447316   \n",
      "90   ID_00090                         Blk 137 Tampines Street 11  103.9446245   \n",
      "91   ID_00091                           Blk 503 West Coast Drive  103.7597513   \n",
      "92   ID_00092                             Blk 50A Marine Terrace   103.915762   \n",
      "93   ID_00093                            Blk 51 Old Airport Road  103.8858332   \n",
      "94   ID_00094                       Blk 511 Bedok North Street 3  103.9306021   \n",
      "95   ID_00095                                Tanglin Halt Market  103.7976258   \n",
      "96   ID_00096                                       Tekka Market   103.850531   \n",
      "97   ID_00097                         Zion Riverside Food Centre  103.8311893   \n",
      "98   ID_00098                          Blk 75 Toa Payoh Lorong 5  103.8529416   \n",
      "99   ID_00099                                Blk 79 Redhill Lane  103.8184026   \n",
      "100  ID_00100                        Blk 85 Bedok North Street 4  103.9387326   \n",
      "101  ID_00101                                Blk 85 Redhill Lane  103.8183389   \n",
      "102  ID_00102                                Blk 89 Circuit Road  103.8854492   \n",
      "103  ID_00103                               Blk 90 Whampoa Drive  103.8551377   \n",
      "104  ID_00104                          Blk 93 Toa Payoh Lorong 4  103.8495135   \n",
      "105  ID_00105                 Blks 1A/ 2A/ 3A Commonwealth Drive  103.7978755   \n",
      "106  ID_00106                              Ci Yuan Hawker Centre   103.882978   \n",
      "107  ID_00107                     Our Tampines Hub Hawker Centre  103.9397262   \n",
      "108  ID_00108                    Kampung Admiralty Hawker Centre  103.8006964   \n",
      "109  ID_00109                               Dawson Hawker Centre  103.8047152   \n",
      "110  ID_00110                  Woodlands Street 12 Hawker Centre  103.7797849   \n",
      "111  ID_00111                        Blk 163 Bukit Merah Central  103.8169924   \n",
      "112  ID_00112                       Blk 216 Bedok North Street 1  103.9332215   \n",
      "113  ID_00113                      Blk 505 Jurong West Street 52  103.7184475   \n",
      "114  ID_00114                              Blk 159 Mei Chin Road  103.8029039   \n",
      "115  ID_00115                            Blk 16 Bedok South Road  103.9355391   \n",
      "116  ID_00116  Singapore University of Technology and Design ...   103.962949   \n",
      "\n",
      "             lat  \n",
      "65    1.33458936  \n",
      "66   1.443881817  \n",
      "67   1.345223163  \n",
      "68    1.28797544  \n",
      "69   1.326449922  \n",
      "70   1.323421751  \n",
      "71   1.339375964  \n",
      "72   1.431447688  \n",
      "73   1.316728148  \n",
      "74   1.310908028  \n",
      "75     1.2852464  \n",
      "76    1.30739616  \n",
      "77   1.389151721  \n",
      "78   1.286952752  \n",
      "79   1.324134223  \n",
      "80   1.301001465  \n",
      "81   1.286297772  \n",
      "82   1.279218443  \n",
      "83   1.320356008  \n",
      "84   1.288822102  \n",
      "85   1.307336517  \n",
      "86   1.288230555  \n",
      "87   1.277366838  \n",
      "88   1.320648292  \n",
      "89   1.338092686  \n",
      "90   1.345639521  \n",
      "91    1.31180301  \n",
      "92   1.305775148  \n",
      "93   1.308251563  \n",
      "94   1.333246279  \n",
      "95   1.300789315  \n",
      "96   1.306205841  \n",
      "97   1.292342168  \n",
      "98   1.336038822  \n",
      "99   1.287858103  \n",
      "100  1.331987069  \n",
      "101  1.287330767  \n",
      "102  1.323445253  \n",
      "103  1.322943062  \n",
      "104  1.338474752  \n",
      "105  1.299713305  \n",
      "106  1.375428967  \n",
      "107  1.353862118  \n",
      "108  1.439932832  \n",
      "109  1.297485671  \n",
      "110  1.433538857  \n",
      "111  1.283692589  \n",
      "112  1.327062409  \n",
      "113  1.349642243  \n",
      "114  1.293236221  \n",
      "115  1.320552165  \n",
      "116    1.340257   \n"
     ]
    }
   ],
   "source": [
    "import pandas as pd\n",
    "import requests\n",
    "from datetime import datetime\n",
    "import time\n",
    "import hashlib\n",
    "import base64\n",
    "from keyGen.token import getToken\n",
    "\n",
    "dataset = pd.read_csv(\"./data/hawker_location.csv\", dtype=\"str\")\n",
    "print(dataset[:5])\n",
    "newDat = dataset.loc[dataset[\"name\"]==\"People's Park Food Centre\",:]\n",
    "print(dataset[65:])"
   ]
  },
  {
   "cell_type": "code",
   "execution_count": 51,
   "metadata": {},
   "outputs": [
    {
     "name": "stdout",
     "output_type": "stream",
     "text": [
      "Successfully loaded.\n"
     ]
    }
   ],
   "source": [
    "apiKey = getToken(\"Te76tgkVJftylWM\") # Change this to your own API key, apiKey = [[Your API Key Here]]\n",
    "dest = dataset[\"lat\"][1]+\",\"+dataset[\"lon\"][1]\n",
    "for i in range(2,5):\n",
    "    dest += \"|\"+dataset[\"lat\"][i]+\",\"+dataset[\"lon\"][i]\n",
    "param = {\n",
    "    \"origins\":dataset[\"lat\"][0]+\",\"+dataset[\"lon\"][0],\n",
    "    \"destinations\":dest,\n",
    "    \"key\":apiKey    \n",
    "}\n",
    "r = requests.get(\"https://maps.googleapis.com/maps/api/distancematrix/json\",params=param)\n",
    "if r.status_code != 200:\n",
    "    print(\"Failed to load: status code \"+str(r.status_code))\n",
    "else:\n",
    "    print(\"Successfully loaded.\")"
   ]
  },
  {
   "cell_type": "code",
   "execution_count": 115,
   "metadata": {},
   "outputs": [
    {
     "ename": "TypeError",
     "evalue": "Unicode-objects must be encoded before hashing",
     "output_type": "error",
     "traceback": [
      "\u001b[1;31m---------------------------------------------------------------------------\u001b[0m",
      "\u001b[1;31mTypeError\u001b[0m                                 Traceback (most recent call last)",
      "\u001b[1;32m<ipython-input-115-d131050b9acd>\u001b[0m in \u001b[0;36m<module>\u001b[1;34m()\u001b[0m\n\u001b[0;32m      1\u001b[0m \u001b[0mdata\u001b[0m \u001b[1;33m=\u001b[0m \u001b[0mr\u001b[0m\u001b[1;33m.\u001b[0m\u001b[0mjson\u001b[0m\u001b[1;33m(\u001b[0m\u001b[1;33m)\u001b[0m\u001b[1;33m\u001b[0m\u001b[0m\n\u001b[1;32m----> 2\u001b[1;33m \u001b[0mhashlib\u001b[0m\u001b[1;33m.\u001b[0m\u001b[0msha1\u001b[0m\u001b[1;33m(\u001b[0m\u001b[0mstr\u001b[0m\u001b[1;33m(\u001b[0m\u001b[0mdataset\u001b[0m\u001b[1;33m[\u001b[0m\u001b[1;34m\"name\"\u001b[0m\u001b[1;33m]\u001b[0m\u001b[1;33m[\u001b[0m\u001b[1;36m0\u001b[0m\u001b[1;33m]\u001b[0m\u001b[1;33m)\u001b[0m\u001b[1;33m)\u001b[0m\u001b[1;33m.\u001b[0m\u001b[0mdigest\u001b[0m\u001b[1;33m(\u001b[0m\u001b[1;33m)\u001b[0m\u001b[1;33m.\u001b[0m\u001b[0mencode\u001b[0m\u001b[1;33m(\u001b[0m\u001b[1;34m\"base64\"\u001b[0m\u001b[1;33m)\u001b[0m\u001b[1;33m\u001b[0m\u001b[0m\n\u001b[0m\u001b[0;32m      3\u001b[0m \u001b[1;33m\u001b[0m\u001b[0m\n\u001b[0;32m      4\u001b[0m \u001b[1;32mfor\u001b[0m \u001b[0mi\u001b[0m \u001b[1;32min\u001b[0m \u001b[0mrange\u001b[0m\u001b[1;33m(\u001b[0m\u001b[1;36m1\u001b[0m\u001b[1;33m,\u001b[0m\u001b[1;36m5\u001b[0m\u001b[1;33m)\u001b[0m\u001b[1;33m:\u001b[0m\u001b[1;33m\u001b[0m\u001b[0m\n\u001b[0;32m      5\u001b[0m     \u001b[0mprint\u001b[0m\u001b[1;33m(\u001b[0m\u001b[1;34m\"The distance between \"\u001b[0m\u001b[1;33m+\u001b[0m\u001b[0mdataset\u001b[0m\u001b[1;33m[\u001b[0m\u001b[1;34m\"name\"\u001b[0m\u001b[1;33m]\u001b[0m\u001b[1;33m[\u001b[0m\u001b[1;36m0\u001b[0m\u001b[1;33m]\u001b[0m\u001b[1;33m+\u001b[0m\u001b[1;34m\" and \"\u001b[0m\u001b[1;33m+\u001b[0m\u001b[0mdataset\u001b[0m\u001b[1;33m[\u001b[0m\u001b[1;34m\"name\"\u001b[0m\u001b[1;33m]\u001b[0m\u001b[1;33m[\u001b[0m\u001b[0mi\u001b[0m\u001b[1;33m]\u001b[0m\u001b[1;33m+\u001b[0m\u001b[1;34m\" is \"\u001b[0m\u001b[1;33m+\u001b[0m\u001b[0mdata\u001b[0m\u001b[1;33m[\u001b[0m\u001b[1;34m\"rows\"\u001b[0m\u001b[1;33m]\u001b[0m\u001b[1;33m[\u001b[0m\u001b[1;36m0\u001b[0m\u001b[1;33m]\u001b[0m\u001b[1;33m[\u001b[0m\u001b[1;34m\"elements\"\u001b[0m\u001b[1;33m]\u001b[0m\u001b[1;33m[\u001b[0m\u001b[0mi\u001b[0m\u001b[1;33m-\u001b[0m\u001b[1;36m1\u001b[0m\u001b[1;33m]\u001b[0m\u001b[1;33m[\u001b[0m\u001b[1;34m\"distance\"\u001b[0m\u001b[1;33m]\u001b[0m\u001b[1;33m[\u001b[0m\u001b[1;34m\"text\"\u001b[0m\u001b[1;33m]\u001b[0m\u001b[1;33m)\u001b[0m\u001b[1;33m\u001b[0m\u001b[0m\n",
      "\u001b[1;31mTypeError\u001b[0m: Unicode-objects must be encoded before hashing"
     ]
    }
   ],
   "source": [
    "data = r.json()\n",
    "hashlib.sha1(str(dataset[\"name\"][0])).digest().encode(\"base64\")\n",
    "\n",
    "for i in range(1,5):\n",
    "    print(\"The distance between \"+dataset[\"name\"][0]+\" and \"+dataset[\"name\"][i]+\" is \"+data[\"rows\"][0][\"elements\"][i-1][\"distance\"][\"text\"])"
   ]
  },
  {
   "cell_type": "code",
   "execution_count": 90,
   "metadata": {},
   "outputs": [
    {
     "name": "stdout",
     "output_type": "stream",
     "text": [
      "1519099200.0\n"
     ]
    }
   ],
   "source": [
    "depTime = datetime(2018,2,20,12,0,0)\n",
    "print(time.mktime(depTime.timetuple()))"
   ]
  },
  {
   "cell_type": "code",
   "execution_count": null,
   "metadata": {},
   "outputs": [],
   "source": []
  },
  {
   "cell_type": "code",
   "execution_count": null,
   "metadata": {},
   "outputs": [],
   "source": []
  }
 ],
 "metadata": {
  "kernelspec": {
   "display_name": "Python [conda env:ampl]",
   "language": "python",
   "name": "conda-env-ampl-py"
  },
  "language_info": {
   "codemirror_mode": {
    "name": "ipython",
    "version": 3
   },
   "file_extension": ".py",
   "mimetype": "text/x-python",
   "name": "python",
   "nbconvert_exporter": "python",
   "pygments_lexer": "ipython3",
   "version": "3.5.4"
  }
 },
 "nbformat": 4,
 "nbformat_minor": 2
}
