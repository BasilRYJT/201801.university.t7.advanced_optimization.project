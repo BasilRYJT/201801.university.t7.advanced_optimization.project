{
 "cells": [
  {
   "cell_type": "code",
   "execution_count": 176,
   "metadata": {},
   "outputs": [
    {
     "name": "stdout",
     "output_type": "stream",
     "text": [
      "        id5                          name          lon          lat\n",
      "0  ID_00000          Blk 20 Ghim Moh Road  103.7882307  1.310996273\n",
      "1  ID_00001     People's Park Food Centre  103.8425788  1.284991022\n",
      "2  ID_00002            Tiong Bahru Market  103.8323488  1.285088258\n",
      "3  ID_00003  Blk 84 Marine Parade Central  103.9063385  1.302285138\n",
      "4  ID_00004              Chinatown Market  103.8431776  1.282235148\n"
     ]
    }
   ],
   "source": [
    "import pandas as pd\n",
    "import requests\n",
    "from datetime import datetime\n",
    "import time\n",
    "import hashlib\n",
    "import base64\n",
    "from keyGen.token import getToken\n",
    "\n",
    "dataset = pd.read_csv(\"./data/hawker_location.csv\", dtype=\"str\")\n",
    "print(dataset[:5])"
   ]
  },
  {
   "cell_type": "code",
   "execution_count": 51,
   "metadata": {},
   "outputs": [
    {
     "name": "stdout",
     "output_type": "stream",
     "text": [
      "Successfully loaded.\n"
     ]
    }
   ],
   "source": [
    "apiKey = getToken(\"Te76tgkVJftylWM\") # Change this to your own API key, apiKey = [[Your API Key Here]]\n",
    "dest = dataset[\"lat\"][1]+\",\"+dataset[\"lon\"][1]\n",
    "for i in range(2,5):\n",
    "    dest += \"|\"+dataset[\"lat\"][i]+\",\"+dataset[\"lon\"][i]\n",
    "param = {\n",
    "    \"origins\":dataset[\"lat\"][0]+\",\"+dataset[\"lon\"][0],\n",
    "    \"destinations\":dest,\n",
    "    \"key\":apiKey    \n",
    "}\n",
    "r = requests.get(\"https://maps.googleapis.com/maps/api/distancematrix/json\",params=param)\n",
    "if r.status_code != 200:\n",
    "    print(\"Failed to load: status code \"+str(r.status_code))\n",
    "else:\n",
    "    print(\"Successfully loaded.\")"
   ]
  },
  {
   "cell_type": "code",
   "execution_count": 163,
   "metadata": {},
   "outputs": [
    {
     "name": "stdout",
     "output_type": "stream",
     "text": [
      "-DPlMzkDSHAnbbrw-tVuIg==\n",
      "The distance between Blk 20 Ghim Moh Road and People's Park Food Centre is 10.8 km\n",
      "The distance between Blk 20 Ghim Moh Road and Tiong Bahru Market is 9.0 km\n",
      "The distance between Blk 20 Ghim Moh Road and Blk 84 Marine Parade Central is 20.7 km\n",
      "The distance between Blk 20 Ghim Moh Road and Chinatown Market is 10.9 km\n"
     ]
    }
   ],
   "source": [
    "data = r.json()\n",
    "\n",
    "for i in range(1,5):\n",
    "    print(\"The distance between \"+dataset[\"name\"][0]+\" and \"+dataset[\"name\"][i]+\" is \"+data[\"rows\"][0][\"elements\"][i-1][\"distance\"][\"text\"])"
   ]
  },
  {
   "cell_type": "code",
   "execution_count": 90,
   "metadata": {},
   "outputs": [
    {
     "name": "stdout",
     "output_type": "stream",
     "text": [
      "1519099200.0\n"
     ]
    }
   ],
   "source": [
    "depTime = datetime(2018,2,20,12,0,0)\n",
    "print(time.mktime(depTime.timetuple()))"
   ]
  },
  {
   "cell_type": "code",
   "execution_count": 177,
   "metadata": {},
   "outputs": [
    {
     "name": "stdout",
     "output_type": "stream",
     "text": [
      "-DPlMzkDSHAnbbrw-tVuIg==\n"
     ]
    }
   ],
   "source": [
    "print(base64.urlsafe_b64encode(hashlib.md5(dataset[\"name\"].tolist()[0].encode(\"utf-8\")).digest()).decode(\"utf-8\"))"
   ]
  },
  {
   "cell_type": "code",
   "execution_count": null,
   "metadata": {},
   "outputs": [],
   "source": []
  }
 ],
 "metadata": {
  "kernelspec": {
   "display_name": "Python [conda env:ampl]",
   "language": "python",
   "name": "conda-env-ampl-py"
  },
  "language_info": {
   "codemirror_mode": {
    "name": "ipython",
    "version": 3
   },
   "file_extension": ".py",
   "mimetype": "text/x-python",
   "name": "python",
   "nbconvert_exporter": "python",
   "pygments_lexer": "ipython3",
   "version": "3.5.4"
  }
 },
 "nbformat": 4,
 "nbformat_minor": 2
}
